{
  "nbformat": 4,
  "nbformat_minor": 0,
  "metadata": {
    "colab": {
      "provenance": []
    },
    "kernelspec": {
      "name": "python3",
      "display_name": "Python 3"
    },
    "language_info": {
      "name": "python"
    }
  },
  "cells": [
    {
      "cell_type": "markdown",
      "source": [
        "#**THEORY QUESTION**"
      ],
      "metadata": {
        "id": "hTncgFNg211C"
      }
    },
    {
      "cell_type": "markdown",
      "source": [
        "**question 1. What is the difference between a function and a method in Python?\n",
        "\n",
        "  ans. Function: A block of reusable code that performs a specific task. Defined using def keyword and can exist independently.\n",
        "\n",
        "Method: A function that is associated with an object (usually defined inside a class). It is called using object.method().\n"
      ],
      "metadata": {
        "id": "CU-ySyC2213v"
      }
    },
    {
      "cell_type": "code",
      "source": [
        "#EXAMPLE\n",
        "\n",
        "# Function\n",
        "def greet():\n",
        "    return \"Hello\"\n",
        "\n",
        "# Method inside a class\n",
        "class Person:\n",
        "    def say_hello(self):\n",
        "        return \"Hello from method\"\n",
        "\n",
        "print(greet())                   # Function call\n",
        "print(Person().say_hello())      # Method call\n"
      ],
      "metadata": {
        "colab": {
          "base_uri": "https://localhost:8080/"
        },
        "id": "A03xDiU04Enw",
        "outputId": "8efbced5-3043-4a7e-bf02-6a9090f67893"
      },
      "execution_count": 2,
      "outputs": [
        {
          "output_type": "stream",
          "name": "stdout",
          "text": [
            "Hello\n",
            "Hello from method\n"
          ]
        }
      ]
    },
    {
      "cell_type": "markdown",
      "source": [
        "**question 2.  Explain the concept of function arguments and parameters in Python.\n",
        "\n",
        "  ans. Parameters: Variables defined inside the function header. (placeholders)\n",
        "\n",
        "Arguments: Actual values you pass when calling the function."
      ],
      "metadata": {
        "id": "GSkDY8Zp216m"
      }
    },
    {
      "cell_type": "code",
      "source": [
        "#EXAMPLE\n",
        "\n",
        "def add(x, y):     # x, y are parameters\n",
        "    return x + y\n",
        "\n",
        "print(add(5, 3))   # 5, 3 are arguments\n"
      ],
      "metadata": {
        "colab": {
          "base_uri": "https://localhost:8080/"
        },
        "id": "jIM9gX7c4Gkd",
        "outputId": "bdf4c2b3-3d12-4d1d-e41b-7d880ca54acb"
      },
      "execution_count": 3,
      "outputs": [
        {
          "output_type": "stream",
          "name": "stdout",
          "text": [
            "8\n"
          ]
        }
      ]
    },
    {
      "cell_type": "markdown",
      "source": [
        "**question 3.What are the different ways to define and call a function in Python?\n",
        "\n",
        "  ans. 1. Regular function with def\n",
        "\n",
        "2. Lambda (anonymous) function\n",
        "\n",
        "3. Functions with default arguments\n",
        "\n",
        "4. Functions with variable arguments"
      ],
      "metadata": {
        "id": "a9i37eV3219J"
      }
    },
    {
      "cell_type": "code",
      "source": [
        "#EXAMPLE\n",
        "\n",
        "# Regular\n",
        "def square(x): return x*x\n",
        "print(square(4))\n",
        "\n",
        "# Lambda\n",
        "square = lambda x: x*x\n",
        "print(square(5))\n",
        "\n",
        "# Default parameter\n",
        "def greet(name=\"Guest\"): return f\"Hello {name}\"\n",
        "print(greet())\n"
      ],
      "metadata": {
        "colab": {
          "base_uri": "https://localhost:8080/"
        },
        "id": "x4fbBpbG4NfF",
        "outputId": "78984b6e-1544-4217-e239-1cd9bf985888"
      },
      "execution_count": 4,
      "outputs": [
        {
          "output_type": "stream",
          "name": "stdout",
          "text": [
            "16\n",
            "25\n",
            "Hello Guest\n"
          ]
        }
      ]
    },
    {
      "cell_type": "markdown",
      "source": [
        "**question 4.  What is the purpose of the `return` statement in a Python function?\n",
        "\n",
        "  ans. return sends a value back from a function to the caller.\n",
        "\n",
        "It allows you to store and reuse the result instead of just displaying it."
      ],
      "metadata": {
        "id": "Jqg-Ead321_w"
      }
    },
    {
      "cell_type": "code",
      "source": [
        "#EXAMPLE\n",
        "\n",
        "def multiply(a, b):\n",
        "    return a * b\n",
        "\n",
        "result = multiply(6, 7)\n",
        "print(\"Result:\", result)"
      ],
      "metadata": {
        "colab": {
          "base_uri": "https://localhost:8080/"
        },
        "id": "eFy8Goht4XsQ",
        "outputId": "3312736a-5957-452d-da89-7d523a4dc86a"
      },
      "execution_count": 5,
      "outputs": [
        {
          "output_type": "stream",
          "name": "stdout",
          "text": [
            "Result: 42\n"
          ]
        }
      ]
    },
    {
      "cell_type": "markdown",
      "source": [
        "**question 5. What are iterators in Python and how do they differ from iterables?\n",
        "\n",
        "  ans. Iterable: Any object you can loop over (list, tuple, string).\n",
        "\n",
        "  Iterator: An object that produces elements one by one using __next__().\n",
        "\n",
        "  Difference: Iterable can be converted to iterator using iter(). Iterator remembers its state."
      ],
      "metadata": {
        "id": "dOZsu1bA22Cj"
      }
    },
    {
      "cell_type": "code",
      "source": [
        "#example\n",
        "\n",
        "nums = [1, 2, 3]\n",
        "it = iter(nums)   # make iterator\n",
        "print(next(it))   # 1\n",
        "print(next(it))   # 2\n",
        "print(next(it))   # 3"
      ],
      "metadata": {
        "colab": {
          "base_uri": "https://localhost:8080/"
        },
        "id": "afpPbMKz4aq6",
        "outputId": "d9b05e01-07ba-4414-ff43-afb786fa2bd3"
      },
      "execution_count": 6,
      "outputs": [
        {
          "output_type": "stream",
          "name": "stdout",
          "text": [
            "1\n",
            "2\n",
            "3\n"
          ]
        }
      ]
    },
    {
      "cell_type": "markdown",
      "source": [
        "**question 6.  Explain the concept of generators in Python and how they are defined.\n",
        "\n",
        "  ans. A generator is a special type of function that produces values one at a time using the yield keyword.\n",
        "\n",
        "Unlike normal functions (which return all results at once), generators save memory because they generate values on demand."
      ],
      "metadata": {
        "id": "saBNx8a922E8"
      }
    },
    {
      "cell_type": "code",
      "source": [
        "#example\n",
        "\n",
        "def count_up_to(n):\n",
        "    i = 1\n",
        "    while i <= n:\n",
        "        yield i   # produces next value\n",
        "        i += 1\n",
        "\n",
        "for num in count_up_to(5):\n",
        "    print(num)\n"
      ],
      "metadata": {
        "colab": {
          "base_uri": "https://localhost:8080/"
        },
        "id": "3YLcEVFF4pV0",
        "outputId": "f8506bfd-5937-4a83-cc5a-f3f618d91a83"
      },
      "execution_count": 7,
      "outputs": [
        {
          "output_type": "stream",
          "name": "stdout",
          "text": [
            "1\n",
            "2\n",
            "3\n",
            "4\n",
            "5\n"
          ]
        }
      ]
    },
    {
      "cell_type": "markdown",
      "source": [
        "**question 7.  What are the advantages of using generators over regular functions?\n",
        "\n",
        "  ans. 1. Memory efficient : values are not stored in memory, they are produced one at a time.\n",
        " 2. Infinite sequences possible : e.g., Fibonacci sequence.\n",
        " 3. Faster execution in some cases : avoids creating large lists."
      ],
      "metadata": {
        "id": "BGGHuSF822Hk"
      }
    },
    {
      "cell_type": "code",
      "source": [
        "# Regular function returns full list\n",
        "def squares_list(n):\n",
        "    return [i*i for i in range(n)]\n",
        "\n",
        "# Generator yields one by one\n",
        "def squares_gen(n):\n",
        "    for i in range(n):\n",
        "        yield i*i\n",
        "\n",
        "print(squares_list(5))       # [0, 1, 4, 9, 16]\n",
        "print(list(squares_gen(5)))  # [0, 1, 4, 9, 16]\n"
      ],
      "metadata": {
        "colab": {
          "base_uri": "https://localhost:8080/"
        },
        "id": "7xe4Sklm4wAI",
        "outputId": "7f79acdf-4f4e-43e5-a1d5-0a4e9a4bdc71"
      },
      "execution_count": 8,
      "outputs": [
        {
          "output_type": "stream",
          "name": "stdout",
          "text": [
            "[0, 1, 4, 9, 16]\n",
            "[0, 1, 4, 9, 16]\n"
          ]
        }
      ]
    },
    {
      "cell_type": "markdown",
      "source": [
        "**question 8. What is a lambda function in Python and when is it typically used?\n",
        "\n",
        "  ans. Lambda function is an anonymous (nameless) function, created using the lambda keyword.\n",
        "\n",
        "Used when you need a short function for a small task, usually inside map(), filter(), or sort()."
      ],
      "metadata": {
        "id": "cfdgyQ4I22KU"
      }
    },
    {
      "cell_type": "code",
      "source": [
        "#example\n",
        "\n",
        "# Normal function\n",
        "def add(x, y): return x + y\n",
        "\n",
        "# Lambda version\n",
        "add = lambda x, y: x + y\n",
        "print(add(5, 3))  # 8\n"
      ],
      "metadata": {
        "colab": {
          "base_uri": "https://localhost:8080/"
        },
        "id": "bImaqKmR42Gc",
        "outputId": "19165c0c-fe9e-4453-83b8-172af7624332"
      },
      "execution_count": 9,
      "outputs": [
        {
          "output_type": "stream",
          "name": "stdout",
          "text": [
            "8\n"
          ]
        }
      ]
    },
    {
      "cell_type": "code",
      "source": [
        "pairs = [(1, 5), (3, 1), (2, 4)]\n",
        "pairs.sort(key=lambda x: x[1])\n",
        "print(pairs)  # [(3, 1), (2, 4), (1, 5)]\n"
      ],
      "metadata": {
        "colab": {
          "base_uri": "https://localhost:8080/"
        },
        "id": "a0kUuUpy8htp",
        "outputId": "c4509819-f185-4bdd-fe79-2e7269554d13"
      },
      "execution_count": 10,
      "outputs": [
        {
          "output_type": "stream",
          "name": "stdout",
          "text": [
            "[(3, 1), (2, 4), (1, 5)]\n"
          ]
        }
      ]
    },
    {
      "cell_type": "markdown",
      "source": [
        "**question 9. Explain the purpose and usage of the `map()` function in Python.\n",
        "\n",
        "  ans. map(function, iterable) applies a function to each element of an iterable (list, tuple, etc.) and returns a new map object (which can be converted to list)."
      ],
      "metadata": {
        "id": "R0cWu0xm22N4"
      }
    },
    {
      "cell_type": "code",
      "source": [
        "nums = [1, 2, 3, 4]\n",
        "squares = map(lambda x: x*x, nums)\n",
        "print(list(squares))  # [1, 4, 9, 16]\n"
      ],
      "metadata": {
        "colab": {
          "base_uri": "https://localhost:8080/"
        },
        "id": "0mHXNrTg48_B",
        "outputId": "4507a5bf-351c-4900-9558-2843a52a03dd"
      },
      "execution_count": 11,
      "outputs": [
        {
          "output_type": "stream",
          "name": "stdout",
          "text": [
            "[1, 4, 9, 16]\n"
          ]
        }
      ]
    },
    {
      "cell_type": "markdown",
      "source": [
        "**question 10. What is the difference between `map()`, `reduce()`, and `filter()` functions in Python?\n",
        "\n",
        "  ans.\n",
        "  * map() → Applies a function to each item and returns a new sequence.\n",
        "\n",
        "* filter() → Filters items based on condition (True/False).\n",
        "\n",
        "* reduce() → Reduces sequence to a single value by repeatedly applying a function."
      ],
      "metadata": {
        "id": "0znRRd-x22Qk"
      }
    },
    {
      "cell_type": "code",
      "source": [
        "from functools import reduce\n",
        "\n",
        "nums = [1, 2, 3, 4, 5]\n",
        "\n",
        "# map\n",
        "print(list(map(lambda x: x*2, nums)))\n",
        "# [2, 4, 6, 8, 10]\n",
        "\n",
        "# filter\n",
        "print(list(filter(lambda x: x%2==0, nums)))\n",
        "# [2, 4]\n",
        "\n",
        "# reduce\n",
        "print(reduce(lambda x, y: x+y, nums))\n",
        "# 15\n"
      ],
      "metadata": {
        "colab": {
          "base_uri": "https://localhost:8080/"
        },
        "id": "7g1smKK65DXA",
        "outputId": "199bfc3c-b7d7-431c-9070-48d85bfaaea5"
      },
      "execution_count": 12,
      "outputs": [
        {
          "output_type": "stream",
          "name": "stdout",
          "text": [
            "[2, 4, 6, 8, 10]\n",
            "[2, 4]\n",
            "15\n"
          ]
        }
      ]
    },
    {
      "cell_type": "markdown",
      "source": [
        "**question 11.  Using pen & Paper write the internal mechanism for sum operation using  reduce function on this given\n",
        "list:[47,11,42,13]\n",
        "\n",
        "  ans. reduce(lambda x, y: x + y, [47, 11, 42, 13])\n",
        "\n",
        "Steps:\n",
        "\n",
        "47 + 11 = 58\n",
        "\n",
        "58 + 42 = 100\n",
        "\n",
        "100 + 13 = 113\n",
        "\n",
        "✅ Final Answer = 113"
      ],
      "metadata": {
        "id": "h_j44H4e22S1"
      }
    },
    {
      "cell_type": "markdown",
      "source": [
        "# **PRACTICAL QUESTION**"
      ],
      "metadata": {
        "id": "_jJt2BRe22VY"
      }
    },
    {
      "cell_type": "code",
      "source": [
        "#q1.\n",
        "\n",
        "def sum_evens(nums):\n",
        "    return sum(x for x in nums if x % 2 == 0)\n",
        "\n",
        "print(sum_evens([1,2,3,4,10]))  # 16\n"
      ],
      "metadata": {
        "colab": {
          "base_uri": "https://localhost:8080/"
        },
        "id": "Vjjf3Pqk5Q-U",
        "outputId": "ae329ed5-9eae-4492-df08-058ae239c654"
      },
      "execution_count": 13,
      "outputs": [
        {
          "output_type": "stream",
          "name": "stdout",
          "text": [
            "16\n"
          ]
        }
      ]
    },
    {
      "cell_type": "code",
      "source": [
        "#q2.\n",
        "\n",
        "def reverse_str(s):\n",
        "    return s[::-1]\n",
        "\n",
        "print(reverse_str(\"Ekta\"))  # atkE\n"
      ],
      "metadata": {
        "colab": {
          "base_uri": "https://localhost:8080/"
        },
        "id": "Rz_xB6I1-LFQ",
        "outputId": "a1930db4-7dbe-48f8-e972-1b611d8e9a8d"
      },
      "execution_count": 14,
      "outputs": [
        {
          "output_type": "stream",
          "name": "stdout",
          "text": [
            "atkE\n"
          ]
        }
      ]
    },
    {
      "cell_type": "code",
      "source": [
        "#q3.\n",
        "\n",
        "def squares(nums):\n",
        "    return [x*x for x in nums]\n",
        "\n",
        "print(squares([1,2,3]))  # [1, 4, 9]\n"
      ],
      "metadata": {
        "colab": {
          "base_uri": "https://localhost:8080/"
        },
        "id": "8MNL-Vdj-UEw",
        "outputId": "2676003f-7027-4b8c-e0b8-eccd0639a4ac"
      },
      "execution_count": 15,
      "outputs": [
        {
          "output_type": "stream",
          "name": "stdout",
          "text": [
            "[1, 4, 9]\n"
          ]
        }
      ]
    },
    {
      "cell_type": "code",
      "source": [
        "#q4.\n",
        "\n",
        "def is_prime(n):\n",
        "    if n < 2: return False\n",
        "    if n in (2,3): return True\n",
        "    if n % 2 == 0: return False\n",
        "    i = 3\n",
        "    while i*i <= n:\n",
        "        if n % i == 0: return False\n",
        "        i += 2\n",
        "    return True\n",
        "\n",
        "# demo: primes 1..200\n",
        "primes_1_200 = [n for n in range(1,201) if is_prime(n)]\n",
        "print(primes_1_200)\n"
      ],
      "metadata": {
        "colab": {
          "base_uri": "https://localhost:8080/"
        },
        "id": "4bQHkfXz-Y0T",
        "outputId": "c656db27-9f53-4b5a-ea3f-092131252258"
      },
      "execution_count": 16,
      "outputs": [
        {
          "output_type": "stream",
          "name": "stdout",
          "text": [
            "[2, 3, 5, 7, 11, 13, 17, 19, 23, 29, 31, 37, 41, 43, 47, 53, 59, 61, 67, 71, 73, 79, 83, 89, 97, 101, 103, 107, 109, 113, 127, 131, 137, 139, 149, 151, 157, 163, 167, 173, 179, 181, 191, 193, 197, 199]\n"
          ]
        }
      ]
    },
    {
      "cell_type": "code",
      "source": [
        "#q5.\n",
        "\n",
        "class Fib:\n",
        "    def __init__(self, n_terms):\n",
        "        self.n = n_terms\n",
        "        self.a, self.b, self.count = 0, 1, 0\n",
        "    def __iter__(self):\n",
        "        return self\n",
        "    def __next__(self):\n",
        "        if self.count >= self.n: raise StopIteration\n",
        "        val = self.a\n",
        "        self.a, self.b = self.b, self.a + self.b\n",
        "        self.count += 1\n",
        "        return val\n",
        "\n",
        "print(list(Fib(7)))  # [0, 1, 1, 2, 3, 5, 8]\n"
      ],
      "metadata": {
        "colab": {
          "base_uri": "https://localhost:8080/"
        },
        "id": "PpzL6oFW-eEj",
        "outputId": "c470f41e-084e-4c68-bc5d-3f012a2ea0ad"
      },
      "execution_count": 17,
      "outputs": [
        {
          "output_type": "stream",
          "name": "stdout",
          "text": [
            "[0, 1, 1, 2, 3, 5, 8]\n"
          ]
        }
      ]
    },
    {
      "cell_type": "code",
      "source": [
        "#q6.\n",
        "\n",
        "def pow2_upto(n):\n",
        "    for e in range(n+1):\n",
        "        yield 2**e\n",
        "\n",
        "print(list(pow2_upto(5)))  # [1, 2, 4, 8, 16, 32]\n"
      ],
      "metadata": {
        "colab": {
          "base_uri": "https://localhost:8080/"
        },
        "id": "muDMYvdM-mg8",
        "outputId": "db5992e1-c0f1-47b6-af4b-e81adb474990"
      },
      "execution_count": 18,
      "outputs": [
        {
          "output_type": "stream",
          "name": "stdout",
          "text": [
            "[1, 2, 4, 8, 16, 32]\n"
          ]
        }
      ]
    },
    {
      "cell_type": "code",
      "source": [
        "#q7.\n",
        "\n",
        "def read_lines(path):\n",
        "    with open(path, \"r\", encoding=\"utf-8\") as f:\n",
        "        for line in f:\n",
        "            yield line.rstrip(\"\\n\")\n",
        "\n",
        "# demo (uncomment when you have a file)\n",
        "# for ln in read_lines(\"sample.txt\"): print(ln)\n"
      ],
      "metadata": {
        "id": "LC_Ro3Uz-tsL"
      },
      "execution_count": 21,
      "outputs": []
    },
    {
      "cell_type": "code",
      "source": [
        "#q8.\n",
        "\n",
        "pairs = [(\"a\",5), (\"b\",1), (\"c\",3)]\n",
        "pairs.sort(key=lambda t: t[1])\n",
        "print(pairs)  # [('b', 1), ('c', 3), ('a', 5)]\n"
      ],
      "metadata": {
        "colab": {
          "base_uri": "https://localhost:8080/"
        },
        "id": "w-NZGzmC-x20",
        "outputId": "636beb02-6677-4781-940f-cc44355ad0fd"
      },
      "execution_count": 20,
      "outputs": [
        {
          "output_type": "stream",
          "name": "stdout",
          "text": [
            "[('b', 1), ('c', 3), ('a', 5)]\n"
          ]
        }
      ]
    },
    {
      "cell_type": "code",
      "source": [
        "#q9\n",
        "\n",
        "c = [0, 20, 37, 100]\n",
        "f = list(map(lambda x: x*9/5 + 32, c))\n",
        "print(f)  # [32.0, 68.0, 98.6, 212.0]\n"
      ],
      "metadata": {
        "colab": {
          "base_uri": "https://localhost:8080/"
        },
        "id": "1_Eeb4nw-3Hw",
        "outputId": "56c58fdc-b583-4a53-ef1c-23eee9842e56"
      },
      "execution_count": 22,
      "outputs": [
        {
          "output_type": "stream",
          "name": "stdout",
          "text": [
            "[32.0, 68.0, 98.6, 212.0]\n"
          ]
        }
      ]
    },
    {
      "cell_type": "code",
      "source": [
        "#q10.\n",
        "\n",
        "def remove_vowels(s):\n",
        "    vowels = set(\"aeiouAEIOU\")\n",
        "    return \"\".join(filter(lambda ch: ch not in vowels, s))\n",
        "\n",
        "print(remove_vowels(\"Beautiful Day\"))  # Btfl Dy\n"
      ],
      "metadata": {
        "colab": {
          "base_uri": "https://localhost:8080/"
        },
        "id": "oTxGG-Hh_IEo",
        "outputId": "7a765f0d-5054-4c54-dad1-d42437d238f9"
      },
      "execution_count": 23,
      "outputs": [
        {
          "output_type": "stream",
          "name": "stdout",
          "text": [
            "Btfl Dy\n"
          ]
        }
      ]
    },
    {
      "cell_type": "code",
      "source": [
        "#q11.\n",
        "\n",
        "orders = [\n",
        "    (\"34587\", \"Learning Python\",       4, 40.95),\n",
        "    (\"98762\", \"Programming Python\",    5, 56.80),\n",
        "    (\"77226\", \"Head First Python\",     3, 32.95),\n",
        "    (\"88112\", \"Einführung in Python3\", 3, 24.99),\n",
        "]\n",
        "\n",
        "# Calculate line total; add €10 surcharge if total < 100\n",
        "result = list(map(\n",
        "    lambda o: (o[0], (o[2]*o[3]) if (o[2]*o[3]) >= 100 else (o[2]*o[3] + 10)),\n",
        "    orders\n",
        "))\n",
        "print(result)\n",
        "\n"
      ],
      "metadata": {
        "colab": {
          "base_uri": "https://localhost:8080/"
        },
        "id": "aMdQfHaj_O5B",
        "outputId": "f3e03ba4-001d-4d30-f55d-ad8f4c890c53"
      },
      "execution_count": 25,
      "outputs": [
        {
          "output_type": "stream",
          "name": "stdout",
          "text": [
            "[('34587', 163.8), ('98762', 284.0), ('77226', 108.85000000000001), ('88112', 84.97)]\n"
          ]
        }
      ]
    },
    {
      "cell_type": "code",
      "source": [],
      "metadata": {
        "id": "r9yJC8RF_W5d"
      },
      "execution_count": null,
      "outputs": []
    }
  ]
}